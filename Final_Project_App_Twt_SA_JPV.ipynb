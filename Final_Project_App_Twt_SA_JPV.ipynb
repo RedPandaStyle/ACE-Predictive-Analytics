{
  "nbformat": 4,
  "nbformat_minor": 0,
  "metadata": {
    "colab": {
      "provenance": [],
      "mount_file_id": "1zuFJmsW7kOudTgosQT0_L8ERpJpftXEH",
      "authorship_tag": "ABX9TyPnbVSU9B8FE+/lrtzreNMj",
      "include_colab_link": true
    },
    "kernelspec": {
      "name": "python3",
      "display_name": "Python 3"
    },
    "language_info": {
      "name": "python"
    },
    "gpuClass": "standard"
  },
  "cells": [
    {
      "cell_type": "markdown",
      "metadata": {
        "id": "view-in-github",
        "colab_type": "text"
      },
      "source": [
        "<a href=\"https://colab.research.google.com/github/RedPandaStyle/ACE-Predictive-Analytics/blob/main/Final_Project_App_Twt_SA_JPV.ipynb\" target=\"_parent\"><img src=\"https://colab.research.google.com/assets/colab-badge.svg\" alt=\"Open In Colab\"/></a>"
      ]
    },
    {
      "cell_type": "markdown",
      "source": [
        "#\\Apple-Twitter Sentiment Analysis\n",
        "\n",
        "The purpose of this assigned project is to create an algorithm using natural language processing that can predict to some degree whether tweets are generally good or bad without human interpretation. "
      ],
      "metadata": {
        "id": "tpPoIDfDZIlj"
      }
    },
    {
      "cell_type": "code",
      "execution_count": 1,
      "metadata": {
        "id": "hiSySgXrYIMe"
      },
      "outputs": [],
      "source": [
        "# Import Pandas, Numpy,String,nltk,sklearn,csv,re,tensorflow,seaborn,matplotlib,keras\n",
        "# Defaults\n",
        "import itertools\n",
        "import pandas as pd \n",
        "import numpy as np\n",
        "import string\n",
        "import nltk\n",
        "import nltk.corpus\n",
        "import sklearn\n",
        "import csv\n",
        "import re\n",
        "import tensorflow as tf\n",
        "import seaborn as sns\n",
        "import matplotlib.pyplot as plt\n",
        "from matplotlib import rcParams\n",
        "import matplotlib as mpl\n",
        "%matplotlib inline\n",
        "\n",
        "# NLP\n",
        "from nltk.stem import WordNetLemmatizer, PorterStemmer\n",
        "from nltk.corpus import stopwords,wordnet \n",
        "from nltk import NaiveBayesClassifier\n",
        "from nltk.tokenize import sent_tokenize, word_tokenize\n",
        "from nltk import pos_tag\n",
        "from wordcloud import WordCloud\n",
        "\n",
        "from sklearn.feature_extraction.text import CountVectorizer, TfidfVectorizer\n",
        "from keras.preprocessing.text import Tokenizer, text_to_word_sequence\n",
        "from sklearn.model_selection import train_test_split\n",
        "from keras.models import load_model\n",
        "\n",
        "# ML Stuff\n",
        "from tensorflow.keras.preprocessing.sequence import pad_sequences\n",
        "from tensorflow.keras.preprocessing import text, sequence       \n",
        "from IPython.display import display, HTML\n",
        "from tensorflow.keras.utils import to_categorical\n",
        "from keras.callbacks import ModelCheckpoint\n",
        "from sklearn.utils import class_weight\n",
        "from sklearn.metrics import precision_score, accuracy_score, f1_score,recall_score, roc_auc_score,precision_recall_curve, average_precision_score, auc, roc_curve\n",
        "from keras.layers import Conv1D, MaxPooling1D, GlobalMaxPooling1D\n",
        "from sklearn.metrics import classification_report\n",
        "\n",
        "from keras.utils.vis_utils import plot_model\n",
        "from sklearn.metrics import precision_score, recall_score, f1_score, confusion_matrix\n",
        "import pickle\n",
        "\n",
        "sns.set()"
      ]
    },
    {
      "cell_type": "code",
      "source": [
        "# DL Dictionaries\n",
        "nltk.download('stopwords')\n",
        "nltk.download('punkt')\n",
        "nltk.download('averaged_perceptron_tagger')\n",
        "nltk.download('wordnet')\n",
        "nltk.download('omw-1.4')"
      ],
      "metadata": {
        "colab": {
          "base_uri": "https://localhost:8080/"
        },
        "id": "5krNBa8amhG5",
        "outputId": "b6a33f3e-efd1-4447-c7e9-a3d71af8f992"
      },
      "execution_count": 2,
      "outputs": [
        {
          "output_type": "stream",
          "name": "stderr",
          "text": [
            "[nltk_data] Downloading package stopwords to /root/nltk_data...\n",
            "[nltk_data]   Package stopwords is already up-to-date!\n",
            "[nltk_data] Downloading package punkt to /root/nltk_data...\n",
            "[nltk_data]   Package punkt is already up-to-date!\n",
            "[nltk_data] Downloading package averaged_perceptron_tagger to\n",
            "[nltk_data]     /root/nltk_data...\n",
            "[nltk_data]   Package averaged_perceptron_tagger is already up-to-\n",
            "[nltk_data]       date!\n",
            "[nltk_data] Downloading package wordnet to /root/nltk_data...\n",
            "[nltk_data]   Package wordnet is already up-to-date!\n",
            "[nltk_data] Downloading package omw-1.4 to /root/nltk_data...\n",
            "[nltk_data]   Package omw-1.4 is already up-to-date!\n"
          ]
        },
        {
          "output_type": "execute_result",
          "data": {
            "text/plain": [
              "True"
            ]
          },
          "metadata": {},
          "execution_count": 2
        }
      ]
    },
    {
      "cell_type": "markdown",
      "source": [
        "#**Load Given Data**"
      ],
      "metadata": {
        "id": "zbpFQR8JaBHG"
      }
    },
    {
      "cell_type": "code",
      "source": [
        "# Import given csv file and establish encoding protocol\n",
        "encoding = \"ISO-8859-1\"\n",
        "ats = pd.read_csv ('https://raw.githubusercontent.com/RedPandaStyle/ACE-Predictive-Analytics/main/Apple-Twitter-Sentiment-DFE%20-%20Apple-Twitter-Sentiment-DFE.csv')"
      ],
      "metadata": {
        "id": "jBKSbkQXaASQ"
      },
      "execution_count": 3,
      "outputs": []
    },
    {
      "cell_type": "markdown",
      "source": [
        "#**Initiate Exploratory Data Analysis**"
      ],
      "metadata": {
        "id": "om06-SH6azsN"
      }
    },
    {
      "cell_type": "code",
      "source": [
        "# Basic view\n",
        "ats.head(15)"
      ],
      "metadata": {
        "colab": {
          "base_uri": "https://localhost:8080/",
          "height": 824
        },
        "id": "dl6YauPZaxa8",
        "outputId": "d0f050b7-46ad-4643-98be-04171f8d6ce5"
      },
      "execution_count": 4,
      "outputs": [
        {
          "output_type": "execute_result",
          "data": {
            "text/plain": [
              "     _unit_id  _golden _unit_state  _trusted_judgments _last_judgment_at  \\\n",
              "0   623495513     True      golden                  10               NaN   \n",
              "1   623495514     True      golden                  12               NaN   \n",
              "2   623495515     True      golden                  10               NaN   \n",
              "3   623495516     True      golden                  17               NaN   \n",
              "4   623495517    False   finalized                   3    12/12/14 12:14   \n",
              "5   623495518     True      golden                  13               NaN   \n",
              "6   623495519     True      golden                  13               NaN   \n",
              "7   623495520     True      golden                   9               NaN   \n",
              "8   623495521     True      golden                  15               NaN   \n",
              "9   623495522    False   finalized                   3     12/12/14 0:52   \n",
              "10  623495523     True      golden                  12               NaN   \n",
              "11  623495524     True      golden                   9               NaN   \n",
              "12  623495525     True      golden                  11               NaN   \n",
              "13  623495526    False   finalized                   3    12/12/14 21:38   \n",
              "14  623495527     True      golden                  17               NaN   \n",
              "\n",
              "   sentiment  sentiment:confidence                            date  \\\n",
              "0          3                0.6264  Mon Dec 01 19:30:03 +0000 2014   \n",
              "1          3                0.8129  Mon Dec 01 19:43:51 +0000 2014   \n",
              "2          3                1.0000  Mon Dec 01 19:50:28 +0000 2014   \n",
              "3          3                0.5848  Mon Dec 01 20:26:34 +0000 2014   \n",
              "4          3                0.6474  Mon Dec 01 20:29:33 +0000 2014   \n",
              "5          3                0.5975  Mon Dec 01 20:30:03 +0000 2014   \n",
              "6          5                0.8468  Mon Dec 01 20:32:45 +0000 2014   \n",
              "7          5                0.6736  Mon Dec 01 20:34:31 +0000 2014   \n",
              "8          3                0.7997  Mon Dec 01 20:36:47 +0000 2014   \n",
              "9          3                0.6360  Mon Dec 01 20:45:03 +0000 2014   \n",
              "10         1                1.0000  Mon Dec 01 20:46:01 +0000 2014   \n",
              "11         3                0.6658  Mon Dec 01 20:47:12 +0000 2014   \n",
              "12         3                0.8381  Mon Dec 01 21:00:15 +0000 2014   \n",
              "13         5                1.0000  Mon Dec 01 21:03:32 +0000 2014   \n",
              "14         1                1.0000  Mon Dec 01 21:09:50 +0000 2014   \n",
              "\n",
              "              id            query   sentiment_gold  \\\n",
              "0   5.400000e+17  #AAPL OR @Apple  3\\nnot_relevant   \n",
              "1   5.400000e+17  #AAPL OR @Apple             3\\n1   \n",
              "2   5.400000e+17  #AAPL OR @Apple                3   \n",
              "3   5.400000e+17  #AAPL OR @Apple             3\\n1   \n",
              "4   5.400000e+17  #AAPL OR @Apple              NaN   \n",
              "5   5.400000e+17  #AAPL OR @Apple                5   \n",
              "6   5.400000e+17  #AAPL OR @Apple                5   \n",
              "7   5.400000e+17  #AAPL OR @Apple             5\\n3   \n",
              "8   5.400000e+17  #AAPL OR @Apple                1   \n",
              "9   5.400000e+17  #AAPL OR @Apple              NaN   \n",
              "10  5.400000e+17  #AAPL OR @Apple                1   \n",
              "11  5.400000e+17  #AAPL OR @Apple                5   \n",
              "12  5.400000e+17  #AAPL OR @Apple                3   \n",
              "13  5.400000e+17  #AAPL OR @Apple              NaN   \n",
              "14  5.400000e+17  #AAPL OR @Apple                1   \n",
              "\n",
              "                                                 text  \n",
              "0   #AAPL:The 10 best Steve Jobs emails ever...htt...  \n",
              "1   RT @JPDesloges: Why AAPL Stock Had a Mini-Flas...  \n",
              "2   My cat only chews @apple cords. Such an #Apple...  \n",
              "3   I agree with @jimcramer that the #IndividualIn...  \n",
              "4        Nobody expects the Spanish Inquisition #AAPL  \n",
              "5   #AAPL:5 Rocket Stocks to Buy for December Gain...  \n",
              "6   Top 3 all @Apple #tablets. Damn right! http://...  \n",
              "7   CNBCTV: #Apple's margins better than expected?...  \n",
              "8   Apple Inc. Flash Crash: What You Need to Know ...  \n",
              "9   #AAPL:This Presentation Shows What Makes The W...  \n",
              "10  WTF MY BATTERY WAS 31% ONE SECOND AGO AND NOW ...  \n",
              "11  Apple Watch Tops Search Engine List of Best We...  \n",
              "12  The Best-Designed #iPhone #Apps In the World, ...  \n",
              "13  RT @peterpham: Bought my @AugustSmartLock at t...  \n",
              "14  @apple Contact sync between Yosemite and iOS8 ...  "
            ],
            "text/html": [
              "\n",
              "  <div id=\"df-f7b27805-15f7-4c46-a43d-674c09ea5834\">\n",
              "    <div class=\"colab-df-container\">\n",
              "      <div>\n",
              "<style scoped>\n",
              "    .dataframe tbody tr th:only-of-type {\n",
              "        vertical-align: middle;\n",
              "    }\n",
              "\n",
              "    .dataframe tbody tr th {\n",
              "        vertical-align: top;\n",
              "    }\n",
              "\n",
              "    .dataframe thead th {\n",
              "        text-align: right;\n",
              "    }\n",
              "</style>\n",
              "<table border=\"1\" class=\"dataframe\">\n",
              "  <thead>\n",
              "    <tr style=\"text-align: right;\">\n",
              "      <th></th>\n",
              "      <th>_unit_id</th>\n",
              "      <th>_golden</th>\n",
              "      <th>_unit_state</th>\n",
              "      <th>_trusted_judgments</th>\n",
              "      <th>_last_judgment_at</th>\n",
              "      <th>sentiment</th>\n",
              "      <th>sentiment:confidence</th>\n",
              "      <th>date</th>\n",
              "      <th>id</th>\n",
              "      <th>query</th>\n",
              "      <th>sentiment_gold</th>\n",
              "      <th>text</th>\n",
              "    </tr>\n",
              "  </thead>\n",
              "  <tbody>\n",
              "    <tr>\n",
              "      <th>0</th>\n",
              "      <td>623495513</td>\n",
              "      <td>True</td>\n",
              "      <td>golden</td>\n",
              "      <td>10</td>\n",
              "      <td>NaN</td>\n",
              "      <td>3</td>\n",
              "      <td>0.6264</td>\n",
              "      <td>Mon Dec 01 19:30:03 +0000 2014</td>\n",
              "      <td>5.400000e+17</td>\n",
              "      <td>#AAPL OR @Apple</td>\n",
              "      <td>3\\nnot_relevant</td>\n",
              "      <td>#AAPL:The 10 best Steve Jobs emails ever...htt...</td>\n",
              "    </tr>\n",
              "    <tr>\n",
              "      <th>1</th>\n",
              "      <td>623495514</td>\n",
              "      <td>True</td>\n",
              "      <td>golden</td>\n",
              "      <td>12</td>\n",
              "      <td>NaN</td>\n",
              "      <td>3</td>\n",
              "      <td>0.8129</td>\n",
              "      <td>Mon Dec 01 19:43:51 +0000 2014</td>\n",
              "      <td>5.400000e+17</td>\n",
              "      <td>#AAPL OR @Apple</td>\n",
              "      <td>3\\n1</td>\n",
              "      <td>RT @JPDesloges: Why AAPL Stock Had a Mini-Flas...</td>\n",
              "    </tr>\n",
              "    <tr>\n",
              "      <th>2</th>\n",
              "      <td>623495515</td>\n",
              "      <td>True</td>\n",
              "      <td>golden</td>\n",
              "      <td>10</td>\n",
              "      <td>NaN</td>\n",
              "      <td>3</td>\n",
              "      <td>1.0000</td>\n",
              "      <td>Mon Dec 01 19:50:28 +0000 2014</td>\n",
              "      <td>5.400000e+17</td>\n",
              "      <td>#AAPL OR @Apple</td>\n",
              "      <td>3</td>\n",
              "      <td>My cat only chews @apple cords. Such an #Apple...</td>\n",
              "    </tr>\n",
              "    <tr>\n",
              "      <th>3</th>\n",
              "      <td>623495516</td>\n",
              "      <td>True</td>\n",
              "      <td>golden</td>\n",
              "      <td>17</td>\n",
              "      <td>NaN</td>\n",
              "      <td>3</td>\n",
              "      <td>0.5848</td>\n",
              "      <td>Mon Dec 01 20:26:34 +0000 2014</td>\n",
              "      <td>5.400000e+17</td>\n",
              "      <td>#AAPL OR @Apple</td>\n",
              "      <td>3\\n1</td>\n",
              "      <td>I agree with @jimcramer that the #IndividualIn...</td>\n",
              "    </tr>\n",
              "    <tr>\n",
              "      <th>4</th>\n",
              "      <td>623495517</td>\n",
              "      <td>False</td>\n",
              "      <td>finalized</td>\n",
              "      <td>3</td>\n",
              "      <td>12/12/14 12:14</td>\n",
              "      <td>3</td>\n",
              "      <td>0.6474</td>\n",
              "      <td>Mon Dec 01 20:29:33 +0000 2014</td>\n",
              "      <td>5.400000e+17</td>\n",
              "      <td>#AAPL OR @Apple</td>\n",
              "      <td>NaN</td>\n",
              "      <td>Nobody expects the Spanish Inquisition #AAPL</td>\n",
              "    </tr>\n",
              "    <tr>\n",
              "      <th>5</th>\n",
              "      <td>623495518</td>\n",
              "      <td>True</td>\n",
              "      <td>golden</td>\n",
              "      <td>13</td>\n",
              "      <td>NaN</td>\n",
              "      <td>3</td>\n",
              "      <td>0.5975</td>\n",
              "      <td>Mon Dec 01 20:30:03 +0000 2014</td>\n",
              "      <td>5.400000e+17</td>\n",
              "      <td>#AAPL OR @Apple</td>\n",
              "      <td>5</td>\n",
              "      <td>#AAPL:5 Rocket Stocks to Buy for December Gain...</td>\n",
              "    </tr>\n",
              "    <tr>\n",
              "      <th>6</th>\n",
              "      <td>623495519</td>\n",
              "      <td>True</td>\n",
              "      <td>golden</td>\n",
              "      <td>13</td>\n",
              "      <td>NaN</td>\n",
              "      <td>5</td>\n",
              "      <td>0.8468</td>\n",
              "      <td>Mon Dec 01 20:32:45 +0000 2014</td>\n",
              "      <td>5.400000e+17</td>\n",
              "      <td>#AAPL OR @Apple</td>\n",
              "      <td>5</td>\n",
              "      <td>Top 3 all @Apple #tablets. Damn right! http://...</td>\n",
              "    </tr>\n",
              "    <tr>\n",
              "      <th>7</th>\n",
              "      <td>623495520</td>\n",
              "      <td>True</td>\n",
              "      <td>golden</td>\n",
              "      <td>9</td>\n",
              "      <td>NaN</td>\n",
              "      <td>5</td>\n",
              "      <td>0.6736</td>\n",
              "      <td>Mon Dec 01 20:34:31 +0000 2014</td>\n",
              "      <td>5.400000e+17</td>\n",
              "      <td>#AAPL OR @Apple</td>\n",
              "      <td>5\\n3</td>\n",
              "      <td>CNBCTV: #Apple's margins better than expected?...</td>\n",
              "    </tr>\n",
              "    <tr>\n",
              "      <th>8</th>\n",
              "      <td>623495521</td>\n",
              "      <td>True</td>\n",
              "      <td>golden</td>\n",
              "      <td>15</td>\n",
              "      <td>NaN</td>\n",
              "      <td>3</td>\n",
              "      <td>0.7997</td>\n",
              "      <td>Mon Dec 01 20:36:47 +0000 2014</td>\n",
              "      <td>5.400000e+17</td>\n",
              "      <td>#AAPL OR @Apple</td>\n",
              "      <td>1</td>\n",
              "      <td>Apple Inc. Flash Crash: What You Need to Know ...</td>\n",
              "    </tr>\n",
              "    <tr>\n",
              "      <th>9</th>\n",
              "      <td>623495522</td>\n",
              "      <td>False</td>\n",
              "      <td>finalized</td>\n",
              "      <td>3</td>\n",
              "      <td>12/12/14 0:52</td>\n",
              "      <td>3</td>\n",
              "      <td>0.6360</td>\n",
              "      <td>Mon Dec 01 20:45:03 +0000 2014</td>\n",
              "      <td>5.400000e+17</td>\n",
              "      <td>#AAPL OR @Apple</td>\n",
              "      <td>NaN</td>\n",
              "      <td>#AAPL:This Presentation Shows What Makes The W...</td>\n",
              "    </tr>\n",
              "    <tr>\n",
              "      <th>10</th>\n",
              "      <td>623495523</td>\n",
              "      <td>True</td>\n",
              "      <td>golden</td>\n",
              "      <td>12</td>\n",
              "      <td>NaN</td>\n",
              "      <td>1</td>\n",
              "      <td>1.0000</td>\n",
              "      <td>Mon Dec 01 20:46:01 +0000 2014</td>\n",
              "      <td>5.400000e+17</td>\n",
              "      <td>#AAPL OR @Apple</td>\n",
              "      <td>1</td>\n",
              "      <td>WTF MY BATTERY WAS 31% ONE SECOND AGO AND NOW ...</td>\n",
              "    </tr>\n",
              "    <tr>\n",
              "      <th>11</th>\n",
              "      <td>623495524</td>\n",
              "      <td>True</td>\n",
              "      <td>golden</td>\n",
              "      <td>9</td>\n",
              "      <td>NaN</td>\n",
              "      <td>3</td>\n",
              "      <td>0.6658</td>\n",
              "      <td>Mon Dec 01 20:47:12 +0000 2014</td>\n",
              "      <td>5.400000e+17</td>\n",
              "      <td>#AAPL OR @Apple</td>\n",
              "      <td>5</td>\n",
              "      <td>Apple Watch Tops Search Engine List of Best We...</td>\n",
              "    </tr>\n",
              "    <tr>\n",
              "      <th>12</th>\n",
              "      <td>623495525</td>\n",
              "      <td>True</td>\n",
              "      <td>golden</td>\n",
              "      <td>11</td>\n",
              "      <td>NaN</td>\n",
              "      <td>3</td>\n",
              "      <td>0.8381</td>\n",
              "      <td>Mon Dec 01 21:00:15 +0000 2014</td>\n",
              "      <td>5.400000e+17</td>\n",
              "      <td>#AAPL OR @Apple</td>\n",
              "      <td>3</td>\n",
              "      <td>The Best-Designed #iPhone #Apps In the World, ...</td>\n",
              "    </tr>\n",
              "    <tr>\n",
              "      <th>13</th>\n",
              "      <td>623495526</td>\n",
              "      <td>False</td>\n",
              "      <td>finalized</td>\n",
              "      <td>3</td>\n",
              "      <td>12/12/14 21:38</td>\n",
              "      <td>5</td>\n",
              "      <td>1.0000</td>\n",
              "      <td>Mon Dec 01 21:03:32 +0000 2014</td>\n",
              "      <td>5.400000e+17</td>\n",
              "      <td>#AAPL OR @Apple</td>\n",
              "      <td>NaN</td>\n",
              "      <td>RT @peterpham: Bought my @AugustSmartLock at t...</td>\n",
              "    </tr>\n",
              "    <tr>\n",
              "      <th>14</th>\n",
              "      <td>623495527</td>\n",
              "      <td>True</td>\n",
              "      <td>golden</td>\n",
              "      <td>17</td>\n",
              "      <td>NaN</td>\n",
              "      <td>1</td>\n",
              "      <td>1.0000</td>\n",
              "      <td>Mon Dec 01 21:09:50 +0000 2014</td>\n",
              "      <td>5.400000e+17</td>\n",
              "      <td>#AAPL OR @Apple</td>\n",
              "      <td>1</td>\n",
              "      <td>@apple Contact sync between Yosemite and iOS8 ...</td>\n",
              "    </tr>\n",
              "  </tbody>\n",
              "</table>\n",
              "</div>\n",
              "      <button class=\"colab-df-convert\" onclick=\"convertToInteractive('df-f7b27805-15f7-4c46-a43d-674c09ea5834')\"\n",
              "              title=\"Convert this dataframe to an interactive table.\"\n",
              "              style=\"display:none;\">\n",
              "        \n",
              "  <svg xmlns=\"http://www.w3.org/2000/svg\" height=\"24px\"viewBox=\"0 0 24 24\"\n",
              "       width=\"24px\">\n",
              "    <path d=\"M0 0h24v24H0V0z\" fill=\"none\"/>\n",
              "    <path d=\"M18.56 5.44l.94 2.06.94-2.06 2.06-.94-2.06-.94-.94-2.06-.94 2.06-2.06.94zm-11 1L8.5 8.5l.94-2.06 2.06-.94-2.06-.94L8.5 2.5l-.94 2.06-2.06.94zm10 10l.94 2.06.94-2.06 2.06-.94-2.06-.94-.94-2.06-.94 2.06-2.06.94z\"/><path d=\"M17.41 7.96l-1.37-1.37c-.4-.4-.92-.59-1.43-.59-.52 0-1.04.2-1.43.59L10.3 9.45l-7.72 7.72c-.78.78-.78 2.05 0 2.83L4 21.41c.39.39.9.59 1.41.59.51 0 1.02-.2 1.41-.59l7.78-7.78 2.81-2.81c.8-.78.8-2.07 0-2.86zM5.41 20L4 18.59l7.72-7.72 1.47 1.35L5.41 20z\"/>\n",
              "  </svg>\n",
              "      </button>\n",
              "      \n",
              "  <style>\n",
              "    .colab-df-container {\n",
              "      display:flex;\n",
              "      flex-wrap:wrap;\n",
              "      gap: 12px;\n",
              "    }\n",
              "\n",
              "    .colab-df-convert {\n",
              "      background-color: #E8F0FE;\n",
              "      border: none;\n",
              "      border-radius: 50%;\n",
              "      cursor: pointer;\n",
              "      display: none;\n",
              "      fill: #1967D2;\n",
              "      height: 32px;\n",
              "      padding: 0 0 0 0;\n",
              "      width: 32px;\n",
              "    }\n",
              "\n",
              "    .colab-df-convert:hover {\n",
              "      background-color: #E2EBFA;\n",
              "      box-shadow: 0px 1px 2px rgba(60, 64, 67, 0.3), 0px 1px 3px 1px rgba(60, 64, 67, 0.15);\n",
              "      fill: #174EA6;\n",
              "    }\n",
              "\n",
              "    [theme=dark] .colab-df-convert {\n",
              "      background-color: #3B4455;\n",
              "      fill: #D2E3FC;\n",
              "    }\n",
              "\n",
              "    [theme=dark] .colab-df-convert:hover {\n",
              "      background-color: #434B5C;\n",
              "      box-shadow: 0px 1px 3px 1px rgba(0, 0, 0, 0.15);\n",
              "      filter: drop-shadow(0px 1px 2px rgba(0, 0, 0, 0.3));\n",
              "      fill: #FFFFFF;\n",
              "    }\n",
              "  </style>\n",
              "\n",
              "      <script>\n",
              "        const buttonEl =\n",
              "          document.querySelector('#df-f7b27805-15f7-4c46-a43d-674c09ea5834 button.colab-df-convert');\n",
              "        buttonEl.style.display =\n",
              "          google.colab.kernel.accessAllowed ? 'block' : 'none';\n",
              "\n",
              "        async function convertToInteractive(key) {\n",
              "          const element = document.querySelector('#df-f7b27805-15f7-4c46-a43d-674c09ea5834');\n",
              "          const dataTable =\n",
              "            await google.colab.kernel.invokeFunction('convertToInteractive',\n",
              "                                                     [key], {});\n",
              "          if (!dataTable) return;\n",
              "\n",
              "          const docLinkHtml = 'Like what you see? Visit the ' +\n",
              "            '<a target=\"_blank\" href=https://colab.research.google.com/notebooks/data_table.ipynb>data table notebook</a>'\n",
              "            + ' to learn more about interactive tables.';\n",
              "          element.innerHTML = '';\n",
              "          dataTable['output_type'] = 'display_data';\n",
              "          await google.colab.output.renderOutput(dataTable, element);\n",
              "          const docLink = document.createElement('div');\n",
              "          docLink.innerHTML = docLinkHtml;\n",
              "          element.appendChild(docLink);\n",
              "        }\n",
              "      </script>\n",
              "    </div>\n",
              "  </div>\n",
              "  "
            ]
          },
          "metadata": {},
          "execution_count": 4
        }
      ]
    },
    {
      "cell_type": "code",
      "source": [
        "# Describe titles of Columns\n",
        "ats.columns"
      ],
      "metadata": {
        "colab": {
          "base_uri": "https://localhost:8080/"
        },
        "id": "UJAi9YRbaxZA",
        "outputId": "833ce446-c381-4457-fb52-5a1ba4628004"
      },
      "execution_count": 5,
      "outputs": [
        {
          "output_type": "execute_result",
          "data": {
            "text/plain": [
              "Index(['_unit_id', '_golden', '_unit_state', '_trusted_judgments',\n",
              "       '_last_judgment_at', 'sentiment', 'sentiment:confidence', 'date', 'id',\n",
              "       'query', 'sentiment_gold', 'text'],\n",
              "      dtype='object')"
            ]
          },
          "metadata": {},
          "execution_count": 5
        }
      ]
    },
    {
      "cell_type": "code",
      "source": [
        "# Describe Datatypes\n",
        "ats.dtypes"
      ],
      "metadata": {
        "colab": {
          "base_uri": "https://localhost:8080/"
        },
        "id": "RkHHI_hqaxWo",
        "outputId": "c8f67e16-f808-4137-f38a-fbd5d5963c1c"
      },
      "execution_count": 6,
      "outputs": [
        {
          "output_type": "execute_result",
          "data": {
            "text/plain": [
              "_unit_id                  int64\n",
              "_golden                    bool\n",
              "_unit_state              object\n",
              "_trusted_judgments        int64\n",
              "_last_judgment_at        object\n",
              "sentiment                object\n",
              "sentiment:confidence    float64\n",
              "date                     object\n",
              "id                      float64\n",
              "query                    object\n",
              "sentiment_gold           object\n",
              "text                     object\n",
              "dtype: object"
            ]
          },
          "metadata": {},
          "execution_count": 6
        }
      ]
    },
    {
      "cell_type": "code",
      "source": [
        "# Begin dropping unwanted data\n",
        "ats.drop(['_unit_id','_golden','_unit_state','_trusted_judgments','_last_judgment_at','sentiment:confidence','date','id','query','sentiment_gold',], axis=1, inplace=True)\n",
        "ats"
      ],
      "metadata": {
        "colab": {
          "base_uri": "https://localhost:8080/",
          "height": 424
        },
        "id": "ir65jnGgaxUR",
        "outputId": "8efa0941-38b5-4ec1-c880-38bce3b78749"
      },
      "execution_count": 7,
      "outputs": [
        {
          "output_type": "execute_result",
          "data": {
            "text/plain": [
              "     sentiment                                               text\n",
              "0            3  #AAPL:The 10 best Steve Jobs emails ever...htt...\n",
              "1            3  RT @JPDesloges: Why AAPL Stock Had a Mini-Flas...\n",
              "2            3  My cat only chews @apple cords. Such an #Apple...\n",
              "3            3  I agree with @jimcramer that the #IndividualIn...\n",
              "4            3       Nobody expects the Spanish Inquisition #AAPL\n",
              "...        ...                                                ...\n",
              "3881         3  (Via FC) Apple Is Warming Up To Social Media -...\n",
              "3882         3  RT @MMLXIV: there is no avocado emoji may I as...\n",
              "3883         5  @marcbulandr I could not agree more. Between @...\n",
              "3884         1  My iPhone 5's photos are no longer downloading...\n",
              "3885         5  RT @SwiftKey: We're so excited to be named to ...\n",
              "\n",
              "[3886 rows x 2 columns]"
            ],
            "text/html": [
              "\n",
              "  <div id=\"df-4088cb4f-30ee-4fad-b463-a4e2f496ab88\">\n",
              "    <div class=\"colab-df-container\">\n",
              "      <div>\n",
              "<style scoped>\n",
              "    .dataframe tbody tr th:only-of-type {\n",
              "        vertical-align: middle;\n",
              "    }\n",
              "\n",
              "    .dataframe tbody tr th {\n",
              "        vertical-align: top;\n",
              "    }\n",
              "\n",
              "    .dataframe thead th {\n",
              "        text-align: right;\n",
              "    }\n",
              "</style>\n",
              "<table border=\"1\" class=\"dataframe\">\n",
              "  <thead>\n",
              "    <tr style=\"text-align: right;\">\n",
              "      <th></th>\n",
              "      <th>sentiment</th>\n",
              "      <th>text</th>\n",
              "    </tr>\n",
              "  </thead>\n",
              "  <tbody>\n",
              "    <tr>\n",
              "      <th>0</th>\n",
              "      <td>3</td>\n",
              "      <td>#AAPL:The 10 best Steve Jobs emails ever...htt...</td>\n",
              "    </tr>\n",
              "    <tr>\n",
              "      <th>1</th>\n",
              "      <td>3</td>\n",
              "      <td>RT @JPDesloges: Why AAPL Stock Had a Mini-Flas...</td>\n",
              "    </tr>\n",
              "    <tr>\n",
              "      <th>2</th>\n",
              "      <td>3</td>\n",
              "      <td>My cat only chews @apple cords. Such an #Apple...</td>\n",
              "    </tr>\n",
              "    <tr>\n",
              "      <th>3</th>\n",
              "      <td>3</td>\n",
              "      <td>I agree with @jimcramer that the #IndividualIn...</td>\n",
              "    </tr>\n",
              "    <tr>\n",
              "      <th>4</th>\n",
              "      <td>3</td>\n",
              "      <td>Nobody expects the Spanish Inquisition #AAPL</td>\n",
              "    </tr>\n",
              "    <tr>\n",
              "      <th>...</th>\n",
              "      <td>...</td>\n",
              "      <td>...</td>\n",
              "    </tr>\n",
              "    <tr>\n",
              "      <th>3881</th>\n",
              "      <td>3</td>\n",
              "      <td>(Via FC) Apple Is Warming Up To Social Media -...</td>\n",
              "    </tr>\n",
              "    <tr>\n",
              "      <th>3882</th>\n",
              "      <td>3</td>\n",
              "      <td>RT @MMLXIV: there is no avocado emoji may I as...</td>\n",
              "    </tr>\n",
              "    <tr>\n",
              "      <th>3883</th>\n",
              "      <td>5</td>\n",
              "      <td>@marcbulandr I could not agree more. Between @...</td>\n",
              "    </tr>\n",
              "    <tr>\n",
              "      <th>3884</th>\n",
              "      <td>1</td>\n",
              "      <td>My iPhone 5's photos are no longer downloading...</td>\n",
              "    </tr>\n",
              "    <tr>\n",
              "      <th>3885</th>\n",
              "      <td>5</td>\n",
              "      <td>RT @SwiftKey: We're so excited to be named to ...</td>\n",
              "    </tr>\n",
              "  </tbody>\n",
              "</table>\n",
              "<p>3886 rows × 2 columns</p>\n",
              "</div>\n",
              "      <button class=\"colab-df-convert\" onclick=\"convertToInteractive('df-4088cb4f-30ee-4fad-b463-a4e2f496ab88')\"\n",
              "              title=\"Convert this dataframe to an interactive table.\"\n",
              "              style=\"display:none;\">\n",
              "        \n",
              "  <svg xmlns=\"http://www.w3.org/2000/svg\" height=\"24px\"viewBox=\"0 0 24 24\"\n",
              "       width=\"24px\">\n",
              "    <path d=\"M0 0h24v24H0V0z\" fill=\"none\"/>\n",
              "    <path d=\"M18.56 5.44l.94 2.06.94-2.06 2.06-.94-2.06-.94-.94-2.06-.94 2.06-2.06.94zm-11 1L8.5 8.5l.94-2.06 2.06-.94-2.06-.94L8.5 2.5l-.94 2.06-2.06.94zm10 10l.94 2.06.94-2.06 2.06-.94-2.06-.94-.94-2.06-.94 2.06-2.06.94z\"/><path d=\"M17.41 7.96l-1.37-1.37c-.4-.4-.92-.59-1.43-.59-.52 0-1.04.2-1.43.59L10.3 9.45l-7.72 7.72c-.78.78-.78 2.05 0 2.83L4 21.41c.39.39.9.59 1.41.59.51 0 1.02-.2 1.41-.59l7.78-7.78 2.81-2.81c.8-.78.8-2.07 0-2.86zM5.41 20L4 18.59l7.72-7.72 1.47 1.35L5.41 20z\"/>\n",
              "  </svg>\n",
              "      </button>\n",
              "      \n",
              "  <style>\n",
              "    .colab-df-container {\n",
              "      display:flex;\n",
              "      flex-wrap:wrap;\n",
              "      gap: 12px;\n",
              "    }\n",
              "\n",
              "    .colab-df-convert {\n",
              "      background-color: #E8F0FE;\n",
              "      border: none;\n",
              "      border-radius: 50%;\n",
              "      cursor: pointer;\n",
              "      display: none;\n",
              "      fill: #1967D2;\n",
              "      height: 32px;\n",
              "      padding: 0 0 0 0;\n",
              "      width: 32px;\n",
              "    }\n",
              "\n",
              "    .colab-df-convert:hover {\n",
              "      background-color: #E2EBFA;\n",
              "      box-shadow: 0px 1px 2px rgba(60, 64, 67, 0.3), 0px 1px 3px 1px rgba(60, 64, 67, 0.15);\n",
              "      fill: #174EA6;\n",
              "    }\n",
              "\n",
              "    [theme=dark] .colab-df-convert {\n",
              "      background-color: #3B4455;\n",
              "      fill: #D2E3FC;\n",
              "    }\n",
              "\n",
              "    [theme=dark] .colab-df-convert:hover {\n",
              "      background-color: #434B5C;\n",
              "      box-shadow: 0px 1px 3px 1px rgba(0, 0, 0, 0.15);\n",
              "      filter: drop-shadow(0px 1px 2px rgba(0, 0, 0, 0.3));\n",
              "      fill: #FFFFFF;\n",
              "    }\n",
              "  </style>\n",
              "\n",
              "      <script>\n",
              "        const buttonEl =\n",
              "          document.querySelector('#df-4088cb4f-30ee-4fad-b463-a4e2f496ab88 button.colab-df-convert');\n",
              "        buttonEl.style.display =\n",
              "          google.colab.kernel.accessAllowed ? 'block' : 'none';\n",
              "\n",
              "        async function convertToInteractive(key) {\n",
              "          const element = document.querySelector('#df-4088cb4f-30ee-4fad-b463-a4e2f496ab88');\n",
              "          const dataTable =\n",
              "            await google.colab.kernel.invokeFunction('convertToInteractive',\n",
              "                                                     [key], {});\n",
              "          if (!dataTable) return;\n",
              "\n",
              "          const docLinkHtml = 'Like what you see? Visit the ' +\n",
              "            '<a target=\"_blank\" href=https://colab.research.google.com/notebooks/data_table.ipynb>data table notebook</a>'\n",
              "            + ' to learn more about interactive tables.';\n",
              "          element.innerHTML = '';\n",
              "          dataTable['output_type'] = 'display_data';\n",
              "          await google.colab.output.renderOutput(dataTable, element);\n",
              "          const docLink = document.createElement('div');\n",
              "          docLink.innerHTML = docLinkHtml;\n",
              "          element.appendChild(docLink);\n",
              "        }\n",
              "      </script>\n",
              "    </div>\n",
              "  </div>\n",
              "  "
            ]
          },
          "metadata": {},
          "execution_count": 7
        }
      ]
    },
    {
      "cell_type": "code",
      "source": [
        "# Drop duplicates\n",
        "ats.drop_duplicates()\n",
        "ats"
      ],
      "metadata": {
        "colab": {
          "base_uri": "https://localhost:8080/",
          "height": 424
        },
        "id": "SKtyTtn7JQH0",
        "outputId": "dbb61f82-dd5c-4016-953a-b7a0aaef2272"
      },
      "execution_count": 8,
      "outputs": [
        {
          "output_type": "execute_result",
          "data": {
            "text/plain": [
              "     sentiment                                               text\n",
              "0            3  #AAPL:The 10 best Steve Jobs emails ever...htt...\n",
              "1            3  RT @JPDesloges: Why AAPL Stock Had a Mini-Flas...\n",
              "2            3  My cat only chews @apple cords. Such an #Apple...\n",
              "3            3  I agree with @jimcramer that the #IndividualIn...\n",
              "4            3       Nobody expects the Spanish Inquisition #AAPL\n",
              "...        ...                                                ...\n",
              "3881         3  (Via FC) Apple Is Warming Up To Social Media -...\n",
              "3882         3  RT @MMLXIV: there is no avocado emoji may I as...\n",
              "3883         5  @marcbulandr I could not agree more. Between @...\n",
              "3884         1  My iPhone 5's photos are no longer downloading...\n",
              "3885         5  RT @SwiftKey: We're so excited to be named to ...\n",
              "\n",
              "[3886 rows x 2 columns]"
            ],
            "text/html": [
              "\n",
              "  <div id=\"df-640b364d-888c-4093-bc2e-2715908205f3\">\n",
              "    <div class=\"colab-df-container\">\n",
              "      <div>\n",
              "<style scoped>\n",
              "    .dataframe tbody tr th:only-of-type {\n",
              "        vertical-align: middle;\n",
              "    }\n",
              "\n",
              "    .dataframe tbody tr th {\n",
              "        vertical-align: top;\n",
              "    }\n",
              "\n",
              "    .dataframe thead th {\n",
              "        text-align: right;\n",
              "    }\n",
              "</style>\n",
              "<table border=\"1\" class=\"dataframe\">\n",
              "  <thead>\n",
              "    <tr style=\"text-align: right;\">\n",
              "      <th></th>\n",
              "      <th>sentiment</th>\n",
              "      <th>text</th>\n",
              "    </tr>\n",
              "  </thead>\n",
              "  <tbody>\n",
              "    <tr>\n",
              "      <th>0</th>\n",
              "      <td>3</td>\n",
              "      <td>#AAPL:The 10 best Steve Jobs emails ever...htt...</td>\n",
              "    </tr>\n",
              "    <tr>\n",
              "      <th>1</th>\n",
              "      <td>3</td>\n",
              "      <td>RT @JPDesloges: Why AAPL Stock Had a Mini-Flas...</td>\n",
              "    </tr>\n",
              "    <tr>\n",
              "      <th>2</th>\n",
              "      <td>3</td>\n",
              "      <td>My cat only chews @apple cords. Such an #Apple...</td>\n",
              "    </tr>\n",
              "    <tr>\n",
              "      <th>3</th>\n",
              "      <td>3</td>\n",
              "      <td>I agree with @jimcramer that the #IndividualIn...</td>\n",
              "    </tr>\n",
              "    <tr>\n",
              "      <th>4</th>\n",
              "      <td>3</td>\n",
              "      <td>Nobody expects the Spanish Inquisition #AAPL</td>\n",
              "    </tr>\n",
              "    <tr>\n",
              "      <th>...</th>\n",
              "      <td>...</td>\n",
              "      <td>...</td>\n",
              "    </tr>\n",
              "    <tr>\n",
              "      <th>3881</th>\n",
              "      <td>3</td>\n",
              "      <td>(Via FC) Apple Is Warming Up To Social Media -...</td>\n",
              "    </tr>\n",
              "    <tr>\n",
              "      <th>3882</th>\n",
              "      <td>3</td>\n",
              "      <td>RT @MMLXIV: there is no avocado emoji may I as...</td>\n",
              "    </tr>\n",
              "    <tr>\n",
              "      <th>3883</th>\n",
              "      <td>5</td>\n",
              "      <td>@marcbulandr I could not agree more. Between @...</td>\n",
              "    </tr>\n",
              "    <tr>\n",
              "      <th>3884</th>\n",
              "      <td>1</td>\n",
              "      <td>My iPhone 5's photos are no longer downloading...</td>\n",
              "    </tr>\n",
              "    <tr>\n",
              "      <th>3885</th>\n",
              "      <td>5</td>\n",
              "      <td>RT @SwiftKey: We're so excited to be named to ...</td>\n",
              "    </tr>\n",
              "  </tbody>\n",
              "</table>\n",
              "<p>3886 rows × 2 columns</p>\n",
              "</div>\n",
              "      <button class=\"colab-df-convert\" onclick=\"convertToInteractive('df-640b364d-888c-4093-bc2e-2715908205f3')\"\n",
              "              title=\"Convert this dataframe to an interactive table.\"\n",
              "              style=\"display:none;\">\n",
              "        \n",
              "  <svg xmlns=\"http://www.w3.org/2000/svg\" height=\"24px\"viewBox=\"0 0 24 24\"\n",
              "       width=\"24px\">\n",
              "    <path d=\"M0 0h24v24H0V0z\" fill=\"none\"/>\n",
              "    <path d=\"M18.56 5.44l.94 2.06.94-2.06 2.06-.94-2.06-.94-.94-2.06-.94 2.06-2.06.94zm-11 1L8.5 8.5l.94-2.06 2.06-.94-2.06-.94L8.5 2.5l-.94 2.06-2.06.94zm10 10l.94 2.06.94-2.06 2.06-.94-2.06-.94-.94-2.06-.94 2.06-2.06.94z\"/><path d=\"M17.41 7.96l-1.37-1.37c-.4-.4-.92-.59-1.43-.59-.52 0-1.04.2-1.43.59L10.3 9.45l-7.72 7.72c-.78.78-.78 2.05 0 2.83L4 21.41c.39.39.9.59 1.41.59.51 0 1.02-.2 1.41-.59l7.78-7.78 2.81-2.81c.8-.78.8-2.07 0-2.86zM5.41 20L4 18.59l7.72-7.72 1.47 1.35L5.41 20z\"/>\n",
              "  </svg>\n",
              "      </button>\n",
              "      \n",
              "  <style>\n",
              "    .colab-df-container {\n",
              "      display:flex;\n",
              "      flex-wrap:wrap;\n",
              "      gap: 12px;\n",
              "    }\n",
              "\n",
              "    .colab-df-convert {\n",
              "      background-color: #E8F0FE;\n",
              "      border: none;\n",
              "      border-radius: 50%;\n",
              "      cursor: pointer;\n",
              "      display: none;\n",
              "      fill: #1967D2;\n",
              "      height: 32px;\n",
              "      padding: 0 0 0 0;\n",
              "      width: 32px;\n",
              "    }\n",
              "\n",
              "    .colab-df-convert:hover {\n",
              "      background-color: #E2EBFA;\n",
              "      box-shadow: 0px 1px 2px rgba(60, 64, 67, 0.3), 0px 1px 3px 1px rgba(60, 64, 67, 0.15);\n",
              "      fill: #174EA6;\n",
              "    }\n",
              "\n",
              "    [theme=dark] .colab-df-convert {\n",
              "      background-color: #3B4455;\n",
              "      fill: #D2E3FC;\n",
              "    }\n",
              "\n",
              "    [theme=dark] .colab-df-convert:hover {\n",
              "      background-color: #434B5C;\n",
              "      box-shadow: 0px 1px 3px 1px rgba(0, 0, 0, 0.15);\n",
              "      filter: drop-shadow(0px 1px 2px rgba(0, 0, 0, 0.3));\n",
              "      fill: #FFFFFF;\n",
              "    }\n",
              "  </style>\n",
              "\n",
              "      <script>\n",
              "        const buttonEl =\n",
              "          document.querySelector('#df-640b364d-888c-4093-bc2e-2715908205f3 button.colab-df-convert');\n",
              "        buttonEl.style.display =\n",
              "          google.colab.kernel.accessAllowed ? 'block' : 'none';\n",
              "\n",
              "        async function convertToInteractive(key) {\n",
              "          const element = document.querySelector('#df-640b364d-888c-4093-bc2e-2715908205f3');\n",
              "          const dataTable =\n",
              "            await google.colab.kernel.invokeFunction('convertToInteractive',\n",
              "                                                     [key], {});\n",
              "          if (!dataTable) return;\n",
              "\n",
              "          const docLinkHtml = 'Like what you see? Visit the ' +\n",
              "            '<a target=\"_blank\" href=https://colab.research.google.com/notebooks/data_table.ipynb>data table notebook</a>'\n",
              "            + ' to learn more about interactive tables.';\n",
              "          element.innerHTML = '';\n",
              "          dataTable['output_type'] = 'display_data';\n",
              "          await google.colab.output.renderOutput(dataTable, element);\n",
              "          const docLink = document.createElement('div');\n",
              "          docLink.innerHTML = docLinkHtml;\n",
              "          element.appendChild(docLink);\n",
              "        }\n",
              "      </script>\n",
              "    </div>\n",
              "  </div>\n",
              "  "
            ]
          },
          "metadata": {},
          "execution_count": 8
        }
      ]
    },
    {
      "cell_type": "markdown",
      "source": [
        "# Sentiment represents a range of overall positivity 1 being least positive and 5 being most. For our purposes, this array must be converted to either good or bad. 0 or 1"
      ],
      "metadata": {
        "id": "5tKg3ZvEV21H"
      }
    },
    {
      "cell_type": "code",
      "source": [
        "#Find unique and not applicable values and drop non_relevant values. These values contain a few abreviated comments and URL's therefore serving no purpose to the analysis\n",
        "ats['sentiment'].value_counts().unique"
      ],
      "metadata": {
        "colab": {
          "base_uri": "https://localhost:8080/"
        },
        "id": "6IfF1dcnYoSB",
        "outputId": "8c08bb5d-893e-4479-e227-072d16df09c5"
      },
      "execution_count": 9,
      "outputs": [
        {
          "output_type": "execute_result",
          "data": {
            "text/plain": [
              "<bound method Series.unique of 3               2162\n",
              "1               1219\n",
              "5                423\n",
              "not_relevant      82\n",
              "Name: sentiment, dtype: int64>"
            ]
          },
          "metadata": {},
          "execution_count": 9
        }
      ]
    },
    {
      "cell_type": "code",
      "source": [
        "# Drop not_relevant\n",
        "ats = ats[ats.sentiment != 'not_relevant']\n",
        "ats"
      ],
      "metadata": {
        "colab": {
          "base_uri": "https://localhost:8080/",
          "height": 424
        },
        "id": "n9jer0otYoAR",
        "outputId": "dcdf2652-1cba-421a-fc52-478e1ffb3220"
      },
      "execution_count": 10,
      "outputs": [
        {
          "output_type": "execute_result",
          "data": {
            "text/plain": [
              "     sentiment                                               text\n",
              "0            3  #AAPL:The 10 best Steve Jobs emails ever...htt...\n",
              "1            3  RT @JPDesloges: Why AAPL Stock Had a Mini-Flas...\n",
              "2            3  My cat only chews @apple cords. Such an #Apple...\n",
              "3            3  I agree with @jimcramer that the #IndividualIn...\n",
              "4            3       Nobody expects the Spanish Inquisition #AAPL\n",
              "...        ...                                                ...\n",
              "3881         3  (Via FC) Apple Is Warming Up To Social Media -...\n",
              "3882         3  RT @MMLXIV: there is no avocado emoji may I as...\n",
              "3883         5  @marcbulandr I could not agree more. Between @...\n",
              "3884         1  My iPhone 5's photos are no longer downloading...\n",
              "3885         5  RT @SwiftKey: We're so excited to be named to ...\n",
              "\n",
              "[3804 rows x 2 columns]"
            ],
            "text/html": [
              "\n",
              "  <div id=\"df-d6b15a1d-3f6a-4b3c-b062-005f66177d54\">\n",
              "    <div class=\"colab-df-container\">\n",
              "      <div>\n",
              "<style scoped>\n",
              "    .dataframe tbody tr th:only-of-type {\n",
              "        vertical-align: middle;\n",
              "    }\n",
              "\n",
              "    .dataframe tbody tr th {\n",
              "        vertical-align: top;\n",
              "    }\n",
              "\n",
              "    .dataframe thead th {\n",
              "        text-align: right;\n",
              "    }\n",
              "</style>\n",
              "<table border=\"1\" class=\"dataframe\">\n",
              "  <thead>\n",
              "    <tr style=\"text-align: right;\">\n",
              "      <th></th>\n",
              "      <th>sentiment</th>\n",
              "      <th>text</th>\n",
              "    </tr>\n",
              "  </thead>\n",
              "  <tbody>\n",
              "    <tr>\n",
              "      <th>0</th>\n",
              "      <td>3</td>\n",
              "      <td>#AAPL:The 10 best Steve Jobs emails ever...htt...</td>\n",
              "    </tr>\n",
              "    <tr>\n",
              "      <th>1</th>\n",
              "      <td>3</td>\n",
              "      <td>RT @JPDesloges: Why AAPL Stock Had a Mini-Flas...</td>\n",
              "    </tr>\n",
              "    <tr>\n",
              "      <th>2</th>\n",
              "      <td>3</td>\n",
              "      <td>My cat only chews @apple cords. Such an #Apple...</td>\n",
              "    </tr>\n",
              "    <tr>\n",
              "      <th>3</th>\n",
              "      <td>3</td>\n",
              "      <td>I agree with @jimcramer that the #IndividualIn...</td>\n",
              "    </tr>\n",
              "    <tr>\n",
              "      <th>4</th>\n",
              "      <td>3</td>\n",
              "      <td>Nobody expects the Spanish Inquisition #AAPL</td>\n",
              "    </tr>\n",
              "    <tr>\n",
              "      <th>...</th>\n",
              "      <td>...</td>\n",
              "      <td>...</td>\n",
              "    </tr>\n",
              "    <tr>\n",
              "      <th>3881</th>\n",
              "      <td>3</td>\n",
              "      <td>(Via FC) Apple Is Warming Up To Social Media -...</td>\n",
              "    </tr>\n",
              "    <tr>\n",
              "      <th>3882</th>\n",
              "      <td>3</td>\n",
              "      <td>RT @MMLXIV: there is no avocado emoji may I as...</td>\n",
              "    </tr>\n",
              "    <tr>\n",
              "      <th>3883</th>\n",
              "      <td>5</td>\n",
              "      <td>@marcbulandr I could not agree more. Between @...</td>\n",
              "    </tr>\n",
              "    <tr>\n",
              "      <th>3884</th>\n",
              "      <td>1</td>\n",
              "      <td>My iPhone 5's photos are no longer downloading...</td>\n",
              "    </tr>\n",
              "    <tr>\n",
              "      <th>3885</th>\n",
              "      <td>5</td>\n",
              "      <td>RT @SwiftKey: We're so excited to be named to ...</td>\n",
              "    </tr>\n",
              "  </tbody>\n",
              "</table>\n",
              "<p>3804 rows × 2 columns</p>\n",
              "</div>\n",
              "      <button class=\"colab-df-convert\" onclick=\"convertToInteractive('df-d6b15a1d-3f6a-4b3c-b062-005f66177d54')\"\n",
              "              title=\"Convert this dataframe to an interactive table.\"\n",
              "              style=\"display:none;\">\n",
              "        \n",
              "  <svg xmlns=\"http://www.w3.org/2000/svg\" height=\"24px\"viewBox=\"0 0 24 24\"\n",
              "       width=\"24px\">\n",
              "    <path d=\"M0 0h24v24H0V0z\" fill=\"none\"/>\n",
              "    <path d=\"M18.56 5.44l.94 2.06.94-2.06 2.06-.94-2.06-.94-.94-2.06-.94 2.06-2.06.94zm-11 1L8.5 8.5l.94-2.06 2.06-.94-2.06-.94L8.5 2.5l-.94 2.06-2.06.94zm10 10l.94 2.06.94-2.06 2.06-.94-2.06-.94-.94-2.06-.94 2.06-2.06.94z\"/><path d=\"M17.41 7.96l-1.37-1.37c-.4-.4-.92-.59-1.43-.59-.52 0-1.04.2-1.43.59L10.3 9.45l-7.72 7.72c-.78.78-.78 2.05 0 2.83L4 21.41c.39.39.9.59 1.41.59.51 0 1.02-.2 1.41-.59l7.78-7.78 2.81-2.81c.8-.78.8-2.07 0-2.86zM5.41 20L4 18.59l7.72-7.72 1.47 1.35L5.41 20z\"/>\n",
              "  </svg>\n",
              "      </button>\n",
              "      \n",
              "  <style>\n",
              "    .colab-df-container {\n",
              "      display:flex;\n",
              "      flex-wrap:wrap;\n",
              "      gap: 12px;\n",
              "    }\n",
              "\n",
              "    .colab-df-convert {\n",
              "      background-color: #E8F0FE;\n",
              "      border: none;\n",
              "      border-radius: 50%;\n",
              "      cursor: pointer;\n",
              "      display: none;\n",
              "      fill: #1967D2;\n",
              "      height: 32px;\n",
              "      padding: 0 0 0 0;\n",
              "      width: 32px;\n",
              "    }\n",
              "\n",
              "    .colab-df-convert:hover {\n",
              "      background-color: #E2EBFA;\n",
              "      box-shadow: 0px 1px 2px rgba(60, 64, 67, 0.3), 0px 1px 3px 1px rgba(60, 64, 67, 0.15);\n",
              "      fill: #174EA6;\n",
              "    }\n",
              "\n",
              "    [theme=dark] .colab-df-convert {\n",
              "      background-color: #3B4455;\n",
              "      fill: #D2E3FC;\n",
              "    }\n",
              "\n",
              "    [theme=dark] .colab-df-convert:hover {\n",
              "      background-color: #434B5C;\n",
              "      box-shadow: 0px 1px 3px 1px rgba(0, 0, 0, 0.15);\n",
              "      filter: drop-shadow(0px 1px 2px rgba(0, 0, 0, 0.3));\n",
              "      fill: #FFFFFF;\n",
              "    }\n",
              "  </style>\n",
              "\n",
              "      <script>\n",
              "        const buttonEl =\n",
              "          document.querySelector('#df-d6b15a1d-3f6a-4b3c-b062-005f66177d54 button.colab-df-convert');\n",
              "        buttonEl.style.display =\n",
              "          google.colab.kernel.accessAllowed ? 'block' : 'none';\n",
              "\n",
              "        async function convertToInteractive(key) {\n",
              "          const element = document.querySelector('#df-d6b15a1d-3f6a-4b3c-b062-005f66177d54');\n",
              "          const dataTable =\n",
              "            await google.colab.kernel.invokeFunction('convertToInteractive',\n",
              "                                                     [key], {});\n",
              "          if (!dataTable) return;\n",
              "\n",
              "          const docLinkHtml = 'Like what you see? Visit the ' +\n",
              "            '<a target=\"_blank\" href=https://colab.research.google.com/notebooks/data_table.ipynb>data table notebook</a>'\n",
              "            + ' to learn more about interactive tables.';\n",
              "          element.innerHTML = '';\n",
              "          dataTable['output_type'] = 'display_data';\n",
              "          await google.colab.output.renderOutput(dataTable, element);\n",
              "          const docLink = document.createElement('div');\n",
              "          docLink.innerHTML = docLinkHtml;\n",
              "          element.appendChild(docLink);\n",
              "        }\n",
              "      </script>\n",
              "    </div>\n",
              "  </div>\n",
              "  "
            ]
          },
          "metadata": {},
          "execution_count": 10
        }
      ]
    },
    {
      "cell_type": "code",
      "source": [
        "ats = ats.astype({'sentiment':'int'})\n",
        "ats.dtypes"
      ],
      "metadata": {
        "colab": {
          "base_uri": "https://localhost:8080/"
        },
        "id": "TLoWCAXEzEpY",
        "outputId": "5e205bcf-567d-4c3a-9dd4-1229a77f27f5"
      },
      "execution_count": 11,
      "outputs": [
        {
          "output_type": "execute_result",
          "data": {
            "text/plain": [
              "sentiment     int64\n",
              "text         object\n",
              "dtype: object"
            ]
          },
          "metadata": {},
          "execution_count": 11
        }
      ]
    },
    {
      "cell_type": "code",
      "source": [
        "# essentially make sentiment ratings either good or bad\n",
        "ats['sentiment'] = ats['sentiment'].replace(4, 1)\n",
        "# dfmi.loc[:, ('one', 'second')]"
      ],
      "metadata": {
        "id": "YYsGhfClVzK8"
      },
      "execution_count": 13,
      "outputs": []
    },
    {
      "cell_type": "code",
      "source": [
        "ats.isnull().sum().sort_values(ascending=False)"
      ],
      "metadata": {
        "colab": {
          "base_uri": "https://localhost:8080/"
        },
        "id": "Gs4LlOP4zJsf",
        "outputId": "5770da89-d130-41f7-8ab1-7b2f150d42b9"
      },
      "execution_count": 14,
      "outputs": [
        {
          "output_type": "execute_result",
          "data": {
            "text/plain": [
              "sentiment    0\n",
              "text         0\n",
              "dtype: int64"
            ]
          },
          "metadata": {},
          "execution_count": 14
        }
      ]
    },
    {
      "cell_type": "markdown",
      "source": [
        "# Dictionaries must be coded to compensate for the use of emojis, stopwords etc. "
      ],
      "metadata": {
        "id": "fDA3qA0ZxG1a"
      }
    },
    {
      "cell_type": "code",
      "source": [
        "# Defining dictionary containing all emojis with their meanings.\n",
        "emojis = {':)': 'smile', ':-)': 'smile', ';d': 'wink', ':-E': 'vampire', ':(': 'sad', \n",
        "          ':-(': 'sad', ':-<': 'sad', ':P': 'raspberry', ':O': 'surprised',\n",
        "          ':-@': 'shocked', ':@': 'shocked',':-$': 'confused', ':\\\\': 'annoyed', \n",
        "          ':#': 'mute', ':X': 'mute', ':^)': 'smile', ':-&': 'confused', '$_$': 'greedy',\n",
        "          '@@': 'eyeroll', ':-!': 'confused', ':-D': 'smile', ':-0': 'yell', 'O.o': 'confused',\n",
        "          '<(-_-)>': 'robot', 'd[-_-]b': 'dj', \":'-)\": 'sadsmile', ';)': 'wink', \n",
        "          ';-)': 'wink', 'O:-)': 'angel','O*-)': 'angel','(:-D': 'gossip', '=^.^=': 'cat'}"
      ],
      "metadata": {
        "id": "VZ8mxw7qaxCT"
      },
      "execution_count": 15,
      "outputs": []
    },
    {
      "cell_type": "code",
      "source": [
        "#Use of stop words\n",
        "## Defining set containing all stopwords in english.\n",
        "stopwords = ['a', 'about', 'above', 'after', 'again', 'ain', 'all', 'am', 'an',\n",
        "             'and','any','are', 'as', 'at', 'be', 'because', 'been', 'before',\n",
        "             'being', 'below', 'between','both', 'by', 'can', 'd', 'did', 'do',\n",
        "             'does', 'doing', 'down', 'during', 'each','few', 'for', 'from', \n",
        "             'further', 'had', 'has', 'have', 'having', 'he', 'her', 'here',\n",
        "             'hers', 'herself', 'him', 'himself', 'his', 'how', 'i', 'if', 'in',\n",
        "             'into','is', 'it', 'its', 'itself', 'just', 'll', 'm', 'ma',\n",
        "             'me', 'more', 'most','my', 'myself', 'now', 'o', 'of', 'on', 'once',\n",
        "             'only', 'or', 'other', 'our', 'ours','ourselves', 'out', 'own', 're',\n",
        "             's', 'same', 'she', \"shes\", 'should', \"shouldve\",'so', 'some', 'such',\n",
        "             't', 'than', 'that', \"thatll\", 'the', 'their', 'theirs', 'them',\n",
        "             'themselves', 'then', 'there', 'these', 'they', 'this', 'those', \n",
        "             'through', 'to', 'too','under', 'until', 'up', 've', 'very', 'was',\n",
        "             'we', 'were', 'what', 'when', 'where','which','while', 'who', 'whom',\n",
        "             'why', 'will', 'with', 'won', 'y', 'you', \"youd\",\"youll\", \"youre\",\n",
        "             \"youve\", 'your', 'yours', 'yourself', 'yourselves']"
      ],
      "metadata": {
        "id": "drlUGCP-g71C"
      },
      "execution_count": 16,
      "outputs": []
    },
    {
      "cell_type": "markdown",
      "source": [
        "#A root word is called Lemma. Lemma is the dictionary form, or citation form of a set of words. For example, runs, running, ran are all forms of the word run, therefore run is the lemma of all these words."
      ],
      "metadata": {
        "id": "yBwDUnOSiNQb"
      }
    },
    {
      "cell_type": "code",
      "source": [
        "lemmatizer = WordNetLemmatizer()\n",
        "\n",
        "def preprocess(textdata):\n",
        "    processed_texts = []\n",
        "\n",
        "    # Defining regex patterns.\n",
        "    url_pattern = r\"((http://)[^ ]*|(https://)[^ ]*|( www\\.)[^ ]*)\"\n",
        "    user_pattern = '@[^\\s]+'\n",
        "    alpha_pattern = \"[^a-zA-Z0-9]\"\n",
        "    sequence_pattern = r\"(.)\\1\\1+\"\n",
        "    seq_replace_pattern = r\"\\1\\1\"\n",
        "\n",
        "    for tweet in textdata:\n",
        "        tweet = tweet.lower()\n",
        "\n",
        "        # Replace all URls with 'URL'\n",
        "        tweet = re.sub(url_pattern, ' URL', tweet)\n",
        "        # Replace all emojis.\n",
        "        # for emoji in emojis.keys():\n",
        "        #     tweet = tweet.replace(emoji, \"EMOJI\" + emojis[emoji])\n",
        "        #     # Replace @USERNAME to 'USER'.\n",
        "        tweet = re.sub(user_pattern, ' USER', tweet)\n",
        "        # Replace all non alphabets.\n",
        "        tweet = re.sub(alpha_pattern, \" \", tweet)\n",
        "        # Replace 3 or more consecutive letters by 2 letter.\n",
        "        tweet = re.sub(sequence_pattern, seq_replace_pattern, tweet)\n",
        "\n",
        "        preprocessed_words = []\n",
        "        for word in tweet.split():\n",
        "            # Check if the word is a stopword.\n",
        "            if len(word) > 1 and word not in stopwords:\n",
        "                # Lemmatizing the word.\n",
        "                word = lemmatizer.lemmatize(word)\n",
        "                preprocessed_words.append(word)\n",
        "\n",
        "        processed_texts.append(' '.join(preprocessed_words))\n",
        "\n",
        "    return processed_texts"
      ],
      "metadata": {
        "id": "KrwhiY0eaw5f"
      },
      "execution_count": 17,
      "outputs": []
    },
    {
      "cell_type": "code",
      "source": [
        "# new assignment to text of a single columns of ats \n",
        "text2=list(ats['text'])"
      ],
      "metadata": {
        "id": "3_ghwk31aw7s"
      },
      "execution_count": 18,
      "outputs": []
    },
    {
      "cell_type": "code",
      "source": [
        "import time\n",
        "t = time.time()\n",
        "processedtext = preprocess(text2)\n",
        "print(f'Total Time taken for Preprocessing: {round(time.time()-t)}')"
      ],
      "metadata": {
        "id": "whuBySUmaw-C",
        "colab": {
          "base_uri": "https://localhost:8080/"
        },
        "outputId": "13b20f45-97dc-4c7d-d4ac-da434aab5c3b"
      },
      "execution_count": 19,
      "outputs": [
        {
          "output_type": "stream",
          "name": "stdout",
          "text": [
            "Total Time taken for Preprocessing: 2\n"
          ]
        }
      ]
    },
    {
      "cell_type": "code",
      "source": [
        "#Assign the variables\n",
        "from sklearn.model_selection import train_test_split\n",
        "X_train, X_test, y_train, y_test=train_test_split(text2, ats['sentiment'], test_size = 0.15, random_state = 1)"
      ],
      "metadata": {
        "id": "IiZnZJoZaw1A"
      },
      "execution_count": 20,
      "outputs": []
    },
    {
      "cell_type": "code",
      "source": [
        "#Running into Apple issue here... \n",
        "\n",
        "from sklearn.linear_model import LogisticRegression\n",
        "logmodel = LogisticRegression()\n",
        "logmodel.fit(X_train,y_train)"
      ],
      "metadata": {
        "id": "Dh-MRbvEawyi",
        "colab": {
          "base_uri": "https://localhost:8080/",
          "height": 363
        },
        "outputId": "4f26ca1c-934c-4fbc-dbc2-2eb5cee3b6c5"
      },
      "execution_count": 21,
      "outputs": [
        {
          "output_type": "error",
          "ename": "ValueError",
          "evalue": "ignored",
          "traceback": [
            "\u001b[0;31m---------------------------------------------------------------------------\u001b[0m",
            "\u001b[0;31mValueError\u001b[0m                                Traceback (most recent call last)",
            "\u001b[0;32m<ipython-input-21-328a843851bc>\u001b[0m in \u001b[0;36m<module>\u001b[0;34m\u001b[0m\n\u001b[1;32m      3\u001b[0m \u001b[0;32mfrom\u001b[0m \u001b[0msklearn\u001b[0m\u001b[0;34m.\u001b[0m\u001b[0mlinear_model\u001b[0m \u001b[0;32mimport\u001b[0m \u001b[0mLogisticRegression\u001b[0m\u001b[0;34m\u001b[0m\u001b[0;34m\u001b[0m\u001b[0m\n\u001b[1;32m      4\u001b[0m \u001b[0mlogmodel\u001b[0m \u001b[0;34m=\u001b[0m \u001b[0mLogisticRegression\u001b[0m\u001b[0;34m(\u001b[0m\u001b[0;34m)\u001b[0m\u001b[0;34m\u001b[0m\u001b[0;34m\u001b[0m\u001b[0m\n\u001b[0;32m----> 5\u001b[0;31m \u001b[0mlogmodel\u001b[0m\u001b[0;34m.\u001b[0m\u001b[0mfit\u001b[0m\u001b[0;34m(\u001b[0m\u001b[0mX_train\u001b[0m\u001b[0;34m,\u001b[0m\u001b[0my_train\u001b[0m\u001b[0;34m)\u001b[0m\u001b[0;34m\u001b[0m\u001b[0;34m\u001b[0m\u001b[0m\n\u001b[0m",
            "\u001b[0;32m/usr/local/lib/python3.8/dist-packages/sklearn/linear_model/_logistic.py\u001b[0m in \u001b[0;36mfit\u001b[0;34m(self, X, y, sample_weight)\u001b[0m\n\u001b[1;32m   1506\u001b[0m             \u001b[0m_dtype\u001b[0m \u001b[0;34m=\u001b[0m \u001b[0;34m[\u001b[0m\u001b[0mnp\u001b[0m\u001b[0;34m.\u001b[0m\u001b[0mfloat64\u001b[0m\u001b[0;34m,\u001b[0m \u001b[0mnp\u001b[0m\u001b[0;34m.\u001b[0m\u001b[0mfloat32\u001b[0m\u001b[0;34m]\u001b[0m\u001b[0;34m\u001b[0m\u001b[0;34m\u001b[0m\u001b[0m\n\u001b[1;32m   1507\u001b[0m \u001b[0;34m\u001b[0m\u001b[0m\n\u001b[0;32m-> 1508\u001b[0;31m         X, y = self._validate_data(\n\u001b[0m\u001b[1;32m   1509\u001b[0m             \u001b[0mX\u001b[0m\u001b[0;34m,\u001b[0m\u001b[0;34m\u001b[0m\u001b[0;34m\u001b[0m\u001b[0m\n\u001b[1;32m   1510\u001b[0m             \u001b[0my\u001b[0m\u001b[0;34m,\u001b[0m\u001b[0;34m\u001b[0m\u001b[0;34m\u001b[0m\u001b[0m\n",
            "\u001b[0;32m/usr/local/lib/python3.8/dist-packages/sklearn/base.py\u001b[0m in \u001b[0;36m_validate_data\u001b[0;34m(self, X, y, reset, validate_separately, **check_params)\u001b[0m\n\u001b[1;32m    579\u001b[0m                 \u001b[0my\u001b[0m \u001b[0;34m=\u001b[0m \u001b[0mcheck_array\u001b[0m\u001b[0;34m(\u001b[0m\u001b[0my\u001b[0m\u001b[0;34m,\u001b[0m \u001b[0;34m**\u001b[0m\u001b[0mcheck_y_params\u001b[0m\u001b[0;34m)\u001b[0m\u001b[0;34m\u001b[0m\u001b[0;34m\u001b[0m\u001b[0m\n\u001b[1;32m    580\u001b[0m             \u001b[0;32melse\u001b[0m\u001b[0;34m:\u001b[0m\u001b[0;34m\u001b[0m\u001b[0;34m\u001b[0m\u001b[0m\n\u001b[0;32m--> 581\u001b[0;31m                 \u001b[0mX\u001b[0m\u001b[0;34m,\u001b[0m \u001b[0my\u001b[0m \u001b[0;34m=\u001b[0m \u001b[0mcheck_X_y\u001b[0m\u001b[0;34m(\u001b[0m\u001b[0mX\u001b[0m\u001b[0;34m,\u001b[0m \u001b[0my\u001b[0m\u001b[0;34m,\u001b[0m \u001b[0;34m**\u001b[0m\u001b[0mcheck_params\u001b[0m\u001b[0;34m)\u001b[0m\u001b[0;34m\u001b[0m\u001b[0;34m\u001b[0m\u001b[0m\n\u001b[0m\u001b[1;32m    582\u001b[0m             \u001b[0mout\u001b[0m \u001b[0;34m=\u001b[0m \u001b[0mX\u001b[0m\u001b[0;34m,\u001b[0m \u001b[0my\u001b[0m\u001b[0;34m\u001b[0m\u001b[0;34m\u001b[0m\u001b[0m\n\u001b[1;32m    583\u001b[0m \u001b[0;34m\u001b[0m\u001b[0m\n",
            "\u001b[0;32m/usr/local/lib/python3.8/dist-packages/sklearn/utils/validation.py\u001b[0m in \u001b[0;36mcheck_X_y\u001b[0;34m(X, y, accept_sparse, accept_large_sparse, dtype, order, copy, force_all_finite, ensure_2d, allow_nd, multi_output, ensure_min_samples, ensure_min_features, y_numeric, estimator)\u001b[0m\n\u001b[1;32m    962\u001b[0m         \u001b[0;32mraise\u001b[0m \u001b[0mValueError\u001b[0m\u001b[0;34m(\u001b[0m\u001b[0;34m\"y cannot be None\"\u001b[0m\u001b[0;34m)\u001b[0m\u001b[0;34m\u001b[0m\u001b[0;34m\u001b[0m\u001b[0m\n\u001b[1;32m    963\u001b[0m \u001b[0;34m\u001b[0m\u001b[0m\n\u001b[0;32m--> 964\u001b[0;31m     X = check_array(\n\u001b[0m\u001b[1;32m    965\u001b[0m         \u001b[0mX\u001b[0m\u001b[0;34m,\u001b[0m\u001b[0;34m\u001b[0m\u001b[0;34m\u001b[0m\u001b[0m\n\u001b[1;32m    966\u001b[0m         \u001b[0maccept_sparse\u001b[0m\u001b[0;34m=\u001b[0m\u001b[0maccept_sparse\u001b[0m\u001b[0;34m,\u001b[0m\u001b[0;34m\u001b[0m\u001b[0;34m\u001b[0m\u001b[0m\n",
            "\u001b[0;32m/usr/local/lib/python3.8/dist-packages/sklearn/utils/validation.py\u001b[0m in \u001b[0;36mcheck_array\u001b[0;34m(array, accept_sparse, accept_large_sparse, dtype, order, copy, force_all_finite, ensure_2d, allow_nd, ensure_min_samples, ensure_min_features, estimator)\u001b[0m\n\u001b[1;32m    744\u001b[0m                     \u001b[0marray\u001b[0m \u001b[0;34m=\u001b[0m \u001b[0marray\u001b[0m\u001b[0;34m.\u001b[0m\u001b[0mastype\u001b[0m\u001b[0;34m(\u001b[0m\u001b[0mdtype\u001b[0m\u001b[0;34m,\u001b[0m \u001b[0mcasting\u001b[0m\u001b[0;34m=\u001b[0m\u001b[0;34m\"unsafe\"\u001b[0m\u001b[0;34m,\u001b[0m \u001b[0mcopy\u001b[0m\u001b[0;34m=\u001b[0m\u001b[0;32mFalse\u001b[0m\u001b[0;34m)\u001b[0m\u001b[0;34m\u001b[0m\u001b[0;34m\u001b[0m\u001b[0m\n\u001b[1;32m    745\u001b[0m                 \u001b[0;32melse\u001b[0m\u001b[0;34m:\u001b[0m\u001b[0;34m\u001b[0m\u001b[0;34m\u001b[0m\u001b[0m\n\u001b[0;32m--> 746\u001b[0;31m                     \u001b[0marray\u001b[0m \u001b[0;34m=\u001b[0m \u001b[0mnp\u001b[0m\u001b[0;34m.\u001b[0m\u001b[0masarray\u001b[0m\u001b[0;34m(\u001b[0m\u001b[0marray\u001b[0m\u001b[0;34m,\u001b[0m \u001b[0morder\u001b[0m\u001b[0;34m=\u001b[0m\u001b[0morder\u001b[0m\u001b[0;34m,\u001b[0m \u001b[0mdtype\u001b[0m\u001b[0;34m=\u001b[0m\u001b[0mdtype\u001b[0m\u001b[0;34m)\u001b[0m\u001b[0;34m\u001b[0m\u001b[0;34m\u001b[0m\u001b[0m\n\u001b[0m\u001b[1;32m    747\u001b[0m             \u001b[0;32mexcept\u001b[0m \u001b[0mComplexWarning\u001b[0m \u001b[0;32mas\u001b[0m \u001b[0mcomplex_warning\u001b[0m\u001b[0;34m:\u001b[0m\u001b[0;34m\u001b[0m\u001b[0;34m\u001b[0m\u001b[0m\n\u001b[1;32m    748\u001b[0m                 raise ValueError(\n",
            "\u001b[0;31mValueError\u001b[0m: could not convert string to float: 'MacBook Pro 13   Non-retina First Startup: http://t.co/9l6RK2OLq2 via @youtube @apple #macbook #macbookpro #startup #hipster'"
          ]
        }
      ]
    },
    {
      "cell_type": "code",
      "source": [
        "X_train = vectorizer.transform(X_train)\n",
        "X_test  = vectorizer.transform(X_test)"
      ],
      "metadata": {
        "id": "gomXR4grawoC"
      },
      "execution_count": null,
      "outputs": []
    },
    {
      "cell_type": "code",
      "source": [],
      "metadata": {
        "id": "P-wF84M8OEX9"
      },
      "execution_count": null,
      "outputs": []
    },
    {
      "cell_type": "code",
      "source": [],
      "metadata": {
        "id": "WtAg4HwQOEWA"
      },
      "execution_count": null,
      "outputs": []
    },
    {
      "cell_type": "code",
      "source": [],
      "metadata": {
        "id": "3auaBK9WOET6"
      },
      "execution_count": null,
      "outputs": []
    },
    {
      "cell_type": "code",
      "source": [],
      "metadata": {
        "id": "aQdt4k5XOERd"
      },
      "execution_count": null,
      "outputs": []
    },
    {
      "cell_type": "code",
      "source": [],
      "metadata": {
        "id": "6pbAteWNOEO8"
      },
      "execution_count": null,
      "outputs": []
    },
    {
      "cell_type": "code",
      "source": [],
      "metadata": {
        "id": "SCC-VggkOEMd"
      },
      "execution_count": null,
      "outputs": []
    },
    {
      "cell_type": "code",
      "source": [],
      "metadata": {
        "id": "m8v2AxQ6OEJZ"
      },
      "execution_count": null,
      "outputs": []
    },
    {
      "cell_type": "code",
      "source": [],
      "metadata": {
        "id": "ARxzH8_7OEGn"
      },
      "execution_count": null,
      "outputs": []
    },
    {
      "cell_type": "code",
      "source": [],
      "metadata": {
        "id": "8lTIXrjaOEDy"
      },
      "execution_count": null,
      "outputs": []
    }
  ]
}